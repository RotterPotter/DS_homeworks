{
  "metadata": {
    "kernelspec": {
      "name": "python",
      "display_name": "Python (Pyodide)",
      "language": "python"
    },
    "language_info": {
      "codemirror_mode": {
        "name": "python",
        "version": 3
      },
      "file_extension": ".py",
      "mimetype": "text/x-python",
      "name": "python",
      "nbconvert_exporter": "python",
      "pygments_lexer": "ipython3",
      "version": "3.8"
    }
  },
  "nbformat_minor": 4,
  "nbformat": 4,
  "cells": [
    {
      "cell_type": "code",
      "source": "import numpy as np",
      "metadata": {
        "trusted": true
      },
      "outputs": [
        {
          "execution_count": 13,
          "output_type": "execute_result",
          "data": {
            "text/plain": "array([ 0,  1,  2,  3,  4,  5,  6,  7,  8,  9, 10])"
          },
          "metadata": {}
        }
      ],
      "execution_count": 13
    },
    {
      "cell_type": "markdown",
      "source": "# 1",
      "metadata": {}
    },
    {
      "cell_type": "code",
      "source": "v = np.arange(11)\nv",
      "metadata": {
        "trusted": true
      },
      "outputs": [
        {
          "execution_count": 14,
          "output_type": "execute_result",
          "data": {
            "text/plain": "array([ 0,  1,  2,  3,  4,  5,  6,  7,  8,  9, 10])"
          },
          "metadata": {}
        }
      ],
      "execution_count": 14
    },
    {
      "cell_type": "markdown",
      "source": "# 2",
      "metadata": {}
    },
    {
      "cell_type": "code",
      "source": "m = np.zeros((3,3))\nm",
      "metadata": {
        "trusted": true
      },
      "outputs": [
        {
          "execution_count": 16,
          "output_type": "execute_result",
          "data": {
            "text/plain": "array([[0., 0., 0.],\n       [0., 0., 0.],\n       [0., 0., 0.]])"
          },
          "metadata": {}
        }
      ],
      "execution_count": 16
    },
    {
      "cell_type": "markdown",
      "source": "# 3",
      "metadata": {}
    },
    {
      "cell_type": "code",
      "source": "m = np.random.randint(1, 11,(3,3))\nm",
      "metadata": {
        "trusted": true
      },
      "outputs": [
        {
          "execution_count": 32,
          "output_type": "execute_result",
          "data": {
            "text/plain": "array([[ 4,  4,  1],\n       [ 6,  9,  4],\n       [ 6, 10,  6]])"
          },
          "metadata": {}
        }
      ],
      "execution_count": 32
    },
    {
      "cell_type": "markdown",
      "source": "# 4",
      "metadata": {}
    },
    {
      "cell_type": "code",
      "source": "m = np.random.random((4,4))\nm",
      "metadata": {
        "trusted": true
      },
      "outputs": [
        {
          "execution_count": 34,
          "output_type": "execute_result",
          "data": {
            "text/plain": "array([[0.21921191, 0.97387381, 0.41340689, 0.78523171],\n       [0.61603963, 0.97836183, 0.2990878 , 0.84356246],\n       [0.06282831, 0.72088874, 0.80017917, 0.62805094],\n       [0.81690258, 0.25835431, 0.78804092, 0.88257364]])"
          },
          "metadata": {}
        }
      ],
      "execution_count": 34
    },
    {
      "cell_type": "markdown",
      "source": "# 5",
      "metadata": {}
    },
    {
      "cell_type": "code",
      "source": "m1 = np.random.randint(1, 11, 5)\nm2 = np.random.randint(1, 11, 5)\nresult = None\n\nresult = m1 - m2\nprint(f'operation: -\\nm1={m1}\\nm2={m2}\\nresult={result}\\n')\n\nresult = m1 + m2\nprint(f'operation: +\\nm1={m1}\\nm2={m2}\\nresult={result}\\n')\n\nresult = m1 * m2\nprint(f'operation: *\\nm1={m1}\\nm2={m2}\\nresult={result}\\n')\n",
      "metadata": {
        "trusted": true
      },
      "outputs": [
        {
          "name": "stdout",
          "text": "operation: -\nm1=[5 4 9 2 1]\nm2=[1 9 2 2 2]\nresult=[ 4 -5  7  0 -1]\n\noperation: +\nm1=[5 4 9 2 1]\nm2=[1 9 2 2 2]\nresult=[ 6 13 11  4  3]\n\noperation: *\nm1=[5 4 9 2 1]\nm2=[1 9 2 2 2]\nresult=[ 5 36 18  4  2]\n\n",
          "output_type": "stream"
        }
      ],
      "execution_count": 44
    },
    {
      "cell_type": "markdown",
      "source": "# 6",
      "metadata": {}
    },
    {
      "cell_type": "code",
      "source": "v1 = np.random.random(7)\nv2 = np.random.random(7)\nprint(v1)\nprint(v2)\n\nnp.dot(v1, v2)",
      "metadata": {
        "trusted": true
      },
      "outputs": [
        {
          "name": "stdout",
          "text": "[0.02376352 0.56349243 0.0098009  0.42229392 0.53302798 0.96249361\n 0.79424399]\n[0.97942506 0.40181907 0.35191144 0.09579505 0.29226195 0.62747762\n 0.86122403]\n",
          "output_type": "stream"
        },
        {
          "execution_count": 51,
          "output_type": "execute_result",
          "data": {
            "text/plain": "1.7373483066888027"
          },
          "metadata": {}
        }
      ],
      "execution_count": 51
    },
    {
      "cell_type": "markdown",
      "source": "# 7",
      "metadata": {}
    },
    {
      "cell_type": "code",
      "source": "m1 = np.random.randint(1, 11, (2,2))\nm2 = np.random.randint(1, 11, (2, 3))\nprint(m1)\nprint(m2)\nnp.dot(m1, m2)",
      "metadata": {
        "trusted": true
      },
      "outputs": [
        {
          "name": "stdout",
          "text": "[[ 8 10]\n [10  2]]\n[[3 1 7]\n [3 9 2]]\n",
          "output_type": "stream"
        },
        {
          "execution_count": 50,
          "output_type": "execute_result",
          "data": {
            "text/plain": "array([[54, 98, 76],\n       [36, 28, 74]])"
          },
          "metadata": {}
        }
      ],
      "execution_count": 50
    },
    {
      "cell_type": "markdown",
      "source": "# 8",
      "metadata": {}
    },
    {
      "cell_type": "code",
      "source": "m = np.random.randint(1, 11, (3, 3))\nprint(m)\nnp.linalg.inv(m)",
      "metadata": {
        "trusted": true
      },
      "outputs": [
        {
          "name": "stdout",
          "text": "[[4 3 4]\n [6 3 9]\n [7 2 7]]\n",
          "output_type": "stream"
        },
        {
          "execution_count": 49,
          "output_type": "execute_result",
          "data": {
            "text/plain": "array([[ 0.07692308, -0.33333333,  0.38461538],\n       [ 0.53846154,  0.        , -0.30769231],\n       [-0.23076923,  0.33333333, -0.15384615]])"
          },
          "metadata": {}
        }
      ],
      "execution_count": 49
    },
    {
      "cell_type": "markdown",
      "source": "# 9",
      "metadata": {}
    },
    {
      "cell_type": "code",
      "source": "m = np.random.random((4,4))\nprint(m)\nm.T",
      "metadata": {
        "trusted": true
      },
      "outputs": [
        {
          "name": "stdout",
          "text": "[[9.91075824e-01 4.99301319e-02 5.26211186e-04 2.58278590e-01]\n [3.34493322e-01 5.83708081e-01 1.82394256e-01 7.62774541e-01]\n [1.61275158e-01 3.06862276e-01 2.83743081e-01 6.91530824e-01]\n [3.50324382e-02 6.75694492e-01 5.98903247e-01 9.65024450e-01]]\n",
          "output_type": "stream"
        },
        {
          "execution_count": 56,
          "output_type": "execute_result",
          "data": {
            "text/plain": "array([[9.91075824e-01, 3.34493322e-01, 1.61275158e-01, 3.50324382e-02],\n       [4.99301319e-02, 5.83708081e-01, 3.06862276e-01, 6.75694492e-01],\n       [5.26211186e-04, 1.82394256e-01, 2.83743081e-01, 5.98903247e-01],\n       [2.58278590e-01, 7.62774541e-01, 6.91530824e-01, 9.65024450e-01]])"
          },
          "metadata": {}
        }
      ],
      "execution_count": 56
    },
    {
      "cell_type": "markdown",
      "source": "# 10",
      "metadata": {}
    },
    {
      "cell_type": "code",
      "source": "m = np.random.randint(1, 11, (3,4))\nv = np.random.randint(1, 11, 4)\nr = m*v\n\nprint(m)\nprint(f'\\n{v}')\nprint(f'\\n{r}')",
      "metadata": {
        "trusted": true
      },
      "outputs": [
        {
          "name": "stdout",
          "text": "[[ 7  3  4  8]\n [ 7  4  8  8]\n [ 7  3 10  8]]\n\n[10  7  5  3]\n\n[[70 21 20 24]\n [70 28 40 24]\n [70 21 50 24]]\n",
          "output_type": "stream"
        }
      ],
      "execution_count": 66
    },
    {
      "cell_type": "markdown",
      "source": "# 11",
      "metadata": {}
    },
    {
      "cell_type": "code",
      "source": "m = np.random.random((2,3))\nv = np.random.random(3)\nr = m * v\nprint(f'{m}\\n')\nprint(f'{v}\\n')\nprint(r)",
      "metadata": {
        "trusted": true
      },
      "outputs": [
        {
          "name": "stdout",
          "text": "[[0.98346178 0.37272099 0.42561601]\n [0.33036748 0.35693616 0.95276359]]\n\n[0.87619026 0.85214852 0.58110336]\n\n[[0.86169964 0.31761364 0.24732689]\n [0.28946477 0.30416262 0.55365412]]\n",
          "output_type": "stream"
        }
      ],
      "execution_count": 68
    },
    {
      "cell_type": "markdown",
      "source": "# 12",
      "metadata": {}
    },
    {
      "cell_type": "code",
      "source": "# DO NOT LOOK HERE\n#---------------------------------------------------------------------------\ndef create_randints(first:int, last:int, size:tuple, quantity=1) -> list: \n    matrixes = list()\n    for _ in range(quantity):\n        matrixes.append(np.random.randint(first, last, size))\n    return matrixes\n\ndef space():\n    print(f'\\n')\n#----------------------------------------------------------------------------    \n\n# TASK:\nm1, m2 = create_randints(1, 11, (2,2), 2)\nr = m1*m2\n\nprint(m1)\nprint(m2)\nspace()\nprint(r)\n",
      "metadata": {
        "trusted": true
      },
      "outputs": [
        {
          "name": "stdout",
          "text": "[[5 9]\n [4 9]]\n[[8 6]\n [7 2]]\n\n\n[[40 54]\n [28 18]]\n",
          "output_type": "stream"
        }
      ],
      "execution_count": 76
    },
    {
      "cell_type": "markdown",
      "source": "# 13",
      "metadata": {}
    },
    {
      "cell_type": "code",
      "source": "m1, m2 = create_randints(1, 11, (2, 2), 2)\nr = m1 + m2\n\nprint(m1)\nprint(m2)\nspace()\nprint(r)",
      "metadata": {
        "trusted": true
      },
      "outputs": [
        {
          "name": "stdout",
          "text": "[[10  2]\n [ 8  6]]\n[[2 4]\n [6 6]]\n\n\n[[12  6]\n [14 12]]\n",
          "output_type": "stream"
        }
      ],
      "execution_count": 78
    },
    {
      "cell_type": "markdown",
      "source": "# 14",
      "metadata": {}
    },
    {
      "cell_type": "code",
      "source": "m = np.random.randint(1, 101, (5,5))\nr = 0\n\nfor i in m:\n    for el in i:\n        r += el\n\nprint(r)",
      "metadata": {
        "trusted": true
      },
      "outputs": [
        {
          "name": "stdout",
          "text": "1114\n",
          "output_type": "stream"
        }
      ],
      "execution_count": 81
    },
    {
      "cell_type": "markdown",
      "source": "# 15",
      "metadata": {}
    },
    {
      "cell_type": "code",
      "source": "m1, m2 = create_randints(1, 11, (4, 4), 2)\nr = m1-m2\n\nprint(m1)\nprint(m2)\nspace()\nprint(r)",
      "metadata": {
        "trusted": true
      },
      "outputs": [
        {
          "name": "stdout",
          "text": "[[5 4 5 6]\n [9 8 8 6]\n [7 8 4 1]\n [1 1 6 3]]\n[[1 5 2 3]\n [9 3 3 8]\n [1 2 6 9]\n [9 4 5 5]]\n\n\n[[ 4 -1  3  3]\n [ 0  5  5 -2]\n [ 6  6 -2 -8]\n [-8 -3  1 -2]]\n",
          "output_type": "stream"
        }
      ],
      "execution_count": 82
    },
    {
      "cell_type": "markdown",
      "source": "# 16",
      "metadata": {}
    },
    {
      "cell_type": "code",
      "source": "m = np.random.random((3,3))\n\nr = None\nsums = list()\n\nfor row in m:\n    r = 0\n\n    for el in row:\n        r += el\n        \n    sums.append(r)\n\nv = np.array(sums)\n\nprint(m)\nspace()\nprint(v[:, np.newaxis])",
      "metadata": {
        "trusted": true
      },
      "outputs": [
        {
          "name": "stdout",
          "text": "[[0.20162765 0.14325904 0.07156733]\n [0.73581531 0.10514435 0.51495192]\n [0.04665149 0.13074565 0.28022502]]\n\n\n[[0.41645402]\n [1.35591158]\n [0.45762215]]\n",
          "output_type": "stream"
        }
      ],
      "execution_count": 86
    },
    {
      "cell_type": "markdown",
      "source": "# 17",
      "metadata": {}
    },
    {
      "cell_type": "code",
      "source": "m = np.random.random((3,4))\nr = m*m\nprint(m)\nspace()\nprint(r)",
      "metadata": {
        "trusted": true
      },
      "outputs": [
        {
          "name": "stdout",
          "text": "[[0.42103871 0.90595561 0.5369985  0.38712929]\n [0.77651886 0.25695176 0.40549706 0.40797794]\n [0.11742892 0.56234585 0.97850932 0.73327213]]\n\n\n[[0.17727359 0.82075557 0.28836739 0.14986909]\n [0.60298153 0.06602421 0.16442786 0.166446  ]\n [0.01378955 0.31623286 0.95748048 0.53768801]]\n",
          "output_type": "stream"
        }
      ],
      "execution_count": 87
    },
    {
      "cell_type": "markdown",
      "source": "# 18",
      "metadata": {}
    },
    {
      "cell_type": "code",
      "source": "v = np.random.randint(1, 51, 4)\nr = v*v\nprint(v)\nspace()\nprint(r)",
      "metadata": {
        "trusted": true
      },
      "outputs": [
        {
          "name": "stdout",
          "text": "[ 2 36 21 19]\n\n\n[   4 1296  441  361]\n",
          "output_type": "stream"
        }
      ],
      "execution_count": 88
    },
    {
      "cell_type": "code",
      "source": "",
      "metadata": {
        "trusted": true
      },
      "outputs": [],
      "execution_count": null
    }
  ]
}